{
 "cells": [
  {
   "cell_type": "markdown",
   "metadata": {},
   "source": [
    "### Analyzing the Stroop Effect\n",
    "Perform the analysis in the space below. Remember to follow [the instructions](https://docs.google.com/document/d/1-OkpZLjG_kX9J6LIQ5IltsqMzVWjh36QpnP2RYpVdPU/pub?embedded=True) and review the [project rubric](https://review.udacity.com/#!/rubrics/71/view) before submitting. Once you've completed the analysis and write up, download this file as a PDF or HTML file and submit in the next section.\n",
    "\n",
    "\n",
    "(1) What is the independent variable? What is the dependent variable?"
   ]
  },
  {
   "cell_type": "markdown",
   "metadata": {},
   "source": [
    "Dependent Variable refers to the variable(s) that is being tested. The results of the dependent variable is dependent on the independent variable. For the purpose of this project/question, the dependent variable is the \"Response Time\", that is measured in seconds. \n",
    "\n",
    "Independent variables refers to the variables or rather factors that may or may not have an effect on the dependent variable. Independent variables are changed or controlled to see their effect on the dependent variable(s). For the purpose of this project/question, the independent variable is the \"Word Condition\", with two possibilities: Congruent or Incongruent. \n",
    "\n",
    "Summary: \n",
    "DEPENDENT: Response Time in seconds\n",
    "INDEPENDENT: Word Condition (Congruent or Incongruent)"
   ]
  },
  {
   "cell_type": "markdown",
   "metadata": {},
   "source": [
    "(2) What is an appropriate set of hypotheses for this task? What kind of statistical test do you expect to perform? Justify your choices."
   ]
  },
  {
   "cell_type": "markdown",
   "metadata": {},
   "source": [
    "Hypothesis:\n",
    "Null Hypothesis (H0): ( μi - μc = 0 ) There is no significant difference in the population average response time in viewing the congruent(c) words vs viewing the incongruent(i) words.\n",
    "\n",
    "Alternative Hypothesis (H1): ( μi - μc = > 0 (positive) ) There is a significant difference (increase), in the population average response times for the incongruent word condition.\n",
    "\n",
    "Summary: \n",
    "H0 = NO difference\n",
    "H1 = There is a difference (statistically significant)\n",
    "\n",
    "\n",
    "Statistical Test: \n",
    "The investigation looks at the dependent variable is the response time (difference in seconds) between the two word conditions, which means the investigation will need to compare the means and variations of the response time between the two word conditions, and whether it overlaps and is different. \n",
    "\n",
    "Therefore, the dependent sample t-test (one-tailed) will be selected for this investigation. This test compares the difference in means between the two independent word variables and takes into account the standard deviation between the means. The results of the comparison will allow us to determine whether the difference (in means) is significant (statistically). This in turn will the us to determine whether to accept or reject the null hypothesis. \n",
    "\n",
    "The dependent sample t-test is selected for several reasons:\n",
    "1) Small Sample size = Sample size is less than 30. Therefore it (sample) is unlikely to approximate a normal distribution (especially since we are not aware of the population variance), which eliminates the use of a z-value.\n",
    "2) One-tailed = Since it is expected that the incongruent will not improve response time, the one-tailed test is chosen as it will allow for a more scrutious examination of the incongruent word condition and its effect on response time.\n",
    "3) Same Subject = The same subject population, that are exposed to the different word condition (and tested for each), therefore dependent version of the t-test is selected. "
   ]
  },
  {
   "cell_type": "markdown",
   "metadata": {},
   "source": [
    "(3) Report some descriptive statistics regarding this dataset. Include at least one measure of central tendency and at least one measure of variability. The name of the data file is 'stroopdata.csv'."
   ]
  },
  {
   "cell_type": "code",
   "execution_count": 1,
   "metadata": {},
   "outputs": [
    {
     "name": "stdout",
     "output_type": "stream",
     "text": [
      "C:\\Users\\sofya_000\\Python Notebooks\\Udacity Nanodegree\\Data Analyst\\Project - Test a Perceptual Phenomenon\n"
     ]
    },
    {
     "data": {
      "text/html": [
       "<div>\n",
       "<style>\n",
       "    .dataframe thead tr:only-child th {\n",
       "        text-align: right;\n",
       "    }\n",
       "\n",
       "    .dataframe thead th {\n",
       "        text-align: left;\n",
       "    }\n",
       "\n",
       "    .dataframe tbody tr th {\n",
       "        vertical-align: top;\n",
       "    }\n",
       "</style>\n",
       "<table border=\"1\" class=\"dataframe\">\n",
       "  <thead>\n",
       "    <tr style=\"text-align: right;\">\n",
       "      <th></th>\n",
       "      <th>Congruent</th>\n",
       "      <th>Incongruent</th>\n",
       "    </tr>\n",
       "  </thead>\n",
       "  <tbody>\n",
       "    <tr>\n",
       "      <th>0</th>\n",
       "      <td>12.079</td>\n",
       "      <td>19.278</td>\n",
       "    </tr>\n",
       "    <tr>\n",
       "      <th>1</th>\n",
       "      <td>16.791</td>\n",
       "      <td>18.741</td>\n",
       "    </tr>\n",
       "    <tr>\n",
       "      <th>2</th>\n",
       "      <td>9.564</td>\n",
       "      <td>21.214</td>\n",
       "    </tr>\n",
       "    <tr>\n",
       "      <th>3</th>\n",
       "      <td>8.630</td>\n",
       "      <td>15.687</td>\n",
       "    </tr>\n",
       "    <tr>\n",
       "      <th>4</th>\n",
       "      <td>14.669</td>\n",
       "      <td>22.803</td>\n",
       "    </tr>\n",
       "  </tbody>\n",
       "</table>\n",
       "</div>"
      ],
      "text/plain": [
       "   Congruent  Incongruent\n",
       "0     12.079       19.278\n",
       "1     16.791       18.741\n",
       "2      9.564       21.214\n",
       "3      8.630       15.687\n",
       "4     14.669       22.803"
      ]
     },
     "execution_count": 1,
     "metadata": {},
     "output_type": "execute_result"
    }
   ],
   "source": [
    "# Stage 1a - Preparation of Battlefield - Loading of all relevant dependancies and libaries\n",
    "import pandas as pd # To contain data\n",
    "import os # Set path\n",
    "import scipy.stats as stats # Import Statistical Package for analysis\n",
    "import matplotlib.pyplot as plt  # For Visualisation\n",
    "%matplotlib inline\n",
    "\n",
    "\n",
    "# Stage 1b - Loading and Reconnaisance of Data\n",
    "path = os.getcwd()\n",
    "print(path) # Get the working directory - Fingerprint\n",
    "df = pd.read_csv(path + '/stroopdata.csv')\n",
    "df.head() # Reconnaisance of Data - Preview of dataframe"
   ]
  },
  {
   "cell_type": "code",
   "execution_count": 2,
   "metadata": {},
   "outputs": [
    {
     "data": {
      "text/html": [
       "<div>\n",
       "<style>\n",
       "    .dataframe thead tr:only-child th {\n",
       "        text-align: right;\n",
       "    }\n",
       "\n",
       "    .dataframe thead th {\n",
       "        text-align: left;\n",
       "    }\n",
       "\n",
       "    .dataframe tbody tr th {\n",
       "        vertical-align: top;\n",
       "    }\n",
       "</style>\n",
       "<table border=\"1\" class=\"dataframe\">\n",
       "  <thead>\n",
       "    <tr style=\"text-align: right;\">\n",
       "      <th></th>\n",
       "      <th>Congruent</th>\n",
       "      <th>Incongruent</th>\n",
       "    </tr>\n",
       "    <tr>\n",
       "      <th>Subject</th>\n",
       "      <th></th>\n",
       "      <th></th>\n",
       "    </tr>\n",
       "  </thead>\n",
       "  <tbody>\n",
       "    <tr>\n",
       "      <th>1</th>\n",
       "      <td>12.079</td>\n",
       "      <td>19.278</td>\n",
       "    </tr>\n",
       "    <tr>\n",
       "      <th>2</th>\n",
       "      <td>16.791</td>\n",
       "      <td>18.741</td>\n",
       "    </tr>\n",
       "    <tr>\n",
       "      <th>3</th>\n",
       "      <td>9.564</td>\n",
       "      <td>21.214</td>\n",
       "    </tr>\n",
       "    <tr>\n",
       "      <th>4</th>\n",
       "      <td>8.630</td>\n",
       "      <td>15.687</td>\n",
       "    </tr>\n",
       "    <tr>\n",
       "      <th>5</th>\n",
       "      <td>14.669</td>\n",
       "      <td>22.803</td>\n",
       "    </tr>\n",
       "  </tbody>\n",
       "</table>\n",
       "</div>"
      ],
      "text/plain": [
       "         Congruent  Incongruent\n",
       "Subject                        \n",
       "1           12.079       19.278\n",
       "2           16.791       18.741\n",
       "3            9.564       21.214\n",
       "4            8.630       15.687\n",
       "5           14.669       22.803"
      ]
     },
     "execution_count": 2,
     "metadata": {},
     "output_type": "execute_result"
    }
   ],
   "source": [
    "# Stage 1c - Preparation of data - Proper Indexing\n",
    "df['Subject'] = df.index+1 # Addition of 'Subject' Column\n",
    "df.index = df['Subject'] # Reindexing\n",
    "del df['Subject'] # Removal of 'Subject' Column\n",
    "df.head() # Check dataframe - with the new index\n",
    "# End of Stage 1"
   ]
  },
  {
   "cell_type": "code",
   "execution_count": 3,
   "metadata": {},
   "outputs": [
    {
     "data": {
      "text/html": [
       "<div>\n",
       "<style>\n",
       "    .dataframe thead tr:only-child th {\n",
       "        text-align: right;\n",
       "    }\n",
       "\n",
       "    .dataframe thead th {\n",
       "        text-align: left;\n",
       "    }\n",
       "\n",
       "    .dataframe tbody tr th {\n",
       "        vertical-align: top;\n",
       "    }\n",
       "</style>\n",
       "<table border=\"1\" class=\"dataframe\">\n",
       "  <thead>\n",
       "    <tr style=\"text-align: right;\">\n",
       "      <th></th>\n",
       "      <th>Congruent</th>\n",
       "      <th>Incongruent</th>\n",
       "    </tr>\n",
       "  </thead>\n",
       "  <tbody>\n",
       "    <tr>\n",
       "      <th>count</th>\n",
       "      <td>24.000000</td>\n",
       "      <td>24.000000</td>\n",
       "    </tr>\n",
       "    <tr>\n",
       "      <th>mean</th>\n",
       "      <td>14.051125</td>\n",
       "      <td>22.015917</td>\n",
       "    </tr>\n",
       "    <tr>\n",
       "      <th>std</th>\n",
       "      <td>3.559358</td>\n",
       "      <td>4.797057</td>\n",
       "    </tr>\n",
       "    <tr>\n",
       "      <th>min</th>\n",
       "      <td>8.630000</td>\n",
       "      <td>15.687000</td>\n",
       "    </tr>\n",
       "    <tr>\n",
       "      <th>25%</th>\n",
       "      <td>11.895250</td>\n",
       "      <td>18.716750</td>\n",
       "    </tr>\n",
       "    <tr>\n",
       "      <th>50%</th>\n",
       "      <td>14.356500</td>\n",
       "      <td>21.017500</td>\n",
       "    </tr>\n",
       "    <tr>\n",
       "      <th>75%</th>\n",
       "      <td>16.200750</td>\n",
       "      <td>24.051500</td>\n",
       "    </tr>\n",
       "    <tr>\n",
       "      <th>max</th>\n",
       "      <td>22.328000</td>\n",
       "      <td>35.255000</td>\n",
       "    </tr>\n",
       "  </tbody>\n",
       "</table>\n",
       "</div>"
      ],
      "text/plain": [
       "       Congruent  Incongruent\n",
       "count  24.000000    24.000000\n",
       "mean   14.051125    22.015917\n",
       "std     3.559358     4.797057\n",
       "min     8.630000    15.687000\n",
       "25%    11.895250    18.716750\n",
       "50%    14.356500    21.017500\n",
       "75%    16.200750    24.051500\n",
       "max    22.328000    35.255000"
      ]
     },
     "execution_count": 3,
     "metadata": {},
     "output_type": "execute_result"
    }
   ],
   "source": [
    "# Stage 2 - Analysis of Data\n",
    "# General Statistics \n",
    "df.describe() # Using pandas in-build describe function\n",
    "# End of Stage 2"
   ]
  },
  {
   "cell_type": "markdown",
   "metadata": {},
   "source": [
    "Central tendency refers to a summary measure that use a single value to attempt to describe the center of the distribution of the data. For the purpose of this project/question; Mean will be used.\n",
    "Mean of:\n",
    "Congruent = 14.0511\n",
    "Incongruent = 22.0159\n",
    "\n",
    "Variability refers to a summary measure of the dispersion or 'spread' of the datain relation to the mean. For the purpose of this project/question; Standard Deviation (std) will be used. \n",
    "\n",
    "Standard Deviation (std) of:\n",
    "Congruent = 3.559358\n",
    "Incongruent = 4.797057\n",
    "\n",
    "The rest of the decriptive statistics (min, max, percentile) can be seen in the table above."
   ]
  },
  {
   "cell_type": "markdown",
   "metadata": {},
   "source": [
    "(4) Provide one or two visualizations that show the distribution of the sample data. Write one or two sentences noting what you observe about the plot or plots."
   ]
  },
  {
   "cell_type": "code",
   "execution_count": 4,
   "metadata": {},
   "outputs": [
    {
     "data": {
      "image/png": "[encoded data removed]",
      "text/plain": [
       "<matplotlib.figure.Figure at 0x18ed167a358>"
      ]
     },
     "metadata": {},
     "output_type": "display_data"
    },
    {
     "data": {
      "image/png": "[encoded data removed]",
      "text/plain": [
       "<matplotlib.figure.Figure at 0x18ed182b208>"
      ]
     },
     "metadata": {},
     "output_type": "display_data"
    },
    {
     "data": {
      "image/png": "[encoded data removed]",
      "text/plain": [
       "<matplotlib.figure.Figure at 0x18ed2b8aeb8>"
      ]
     },
     "metadata": {},
     "output_type": "display_data"
    }
   ],
   "source": [
    "# Stage 3 - Visualisation of Data\n",
    "# Boxplot - Show the mean and variability and whether they overlap \n",
    "df.boxplot()\n",
    "plt.xlabel('Word Condition')\n",
    "plt.ylabel('Response Time (secs)')\n",
    "\n",
    "# Histogram - Show distribution of Subjects's across different response times.\n",
    "df.plot(kind='hist', stacked=True, bins=10)\n",
    "plt.xlabel('Response Time (secs)')\n",
    "plt.ylabel('No. of Subjects')\n",
    "plt.show()\n",
    "df.hist(bins=10)\n",
    "plt.xlabel('Response Time (secs)')\n",
    "plt.ylabel('No. of Subjects')\n",
    "plt.show()\n",
    "# End of Stage 3"
   ]
  },
  {
   "cell_type": "markdown",
   "metadata": {},
   "source": [
    "General Exploration:\n",
    "Boxplot:\n",
    "Since we are looking at the means between the two word conditions, we use a boxplot to show the mean and the standard deviation and assess how different the mean is and whether there is any overlap between the standard deviation. If there is no difference observed visually here, it is unlikely that there will be any statistical difference and may not be worth further investigation.\n",
    "\n",
    "From the boxplot we can see there there is a significant (visually) difference between the mean, with mean of the incongruent close to the top end of the standard deviation of the congruent. It was also observed that the standard deviation of the incongruent was also above the mean of the congruent. \n",
    "\n",
    "This suggest possible statistical difference and warrants further investigation\n",
    "\n",
    "\n",
    "Histogram:\n",
    "While a boxplot shows the overview or mean and variability of the data, it does not show the actual \"weight\"/\"concentration\" or spread of the data. This is where a histogram comes in, it shows the number of subjects at each level of response time and thus allows us to look at the concentration of the data. \n",
    "\n",
    "From the histogram, we can see that there is difference in concentration for each word condition. From the shape of the histogram, it may also be better to use one-tail analysis, since the concentration in one tail and the difference is on the increase in response time. \n"
   ]
  },
  {
   "cell_type": "markdown",
   "metadata": {},
   "source": [
    "(5) Now, perform the statistical test and report the results. What is the confidence level and your critical statistic value? Do you reject the null hypothesis or fail to reject it? Come to a conclusion in terms of the experiment task. Did the results match up with your expectations?"
   ]
  },
  {
   "cell_type": "code",
   "execution_count": 5,
   "metadata": {},
   "outputs": [
    {
     "name": "stdout",
     "output_type": "stream",
     "text": [
      "Sample Size (n) = 24 subjects\n",
      "Degrees of Freedom (df) = 23\n",
      "T-Test Result = Ttest_relResult(statistic=-8.020706944109957, pvalue=4.1030005857111781e-08)\n"
     ]
    }
   ],
   "source": [
    "# Stage 4 - Statistical Testing of Data\n",
    "# Preparation of Variables - Labelling\n",
    "n = len(df) # Sample Size\n",
    "c = df['Congruent']\n",
    "i = df['Incongruent']\n",
    "\n",
    "# Running t-test (repeated sampling from the same unit)\n",
    "ttest = stats.ttest_rel(c,i) \n",
    "\n",
    "# Printing Results\n",
    "print(\"Sample Size (n) =\", n, \"subjects\")\n",
    "print(\"Degrees of Freedom (df) =\", (n-1))\n",
    "print(\"T-Test Result =\", ttest)\n",
    "\n",
    "# End of Stage 4\n",
    "# End of Project"
   ]
  },
  {
   "cell_type": "markdown",
   "metadata": {},
   "source": [
    "Statistical Parameters: \n",
    "Confidence level is set at 99 (α = .01).\n",
    "Degrees of freedom = 23 (24 - 1)\n",
    "t-critical value (1-sided test) = -2.50\n",
    "\n",
    "\n",
    "Results: \n",
    "t-statistic > t-critical\n",
    "-8.0207 > -2.50\n",
    "p value = < .0001 (4.1030005857111781e-08)\n",
    "\n",
    "Conclusion:\n",
    "Null Hypothesis is rejected at an  α = 0.01. This is because the response time to the word condition is significantly different between the two word conditions (-8.0207 > -2.50). \n",
    "Based on this, it can be concluded that the subjects did not name colours at the same speed when the word (actual meaning) and its colors match, as when they do NOT match. \n",
    "\n",
    "Match:\n",
    "The results is inline with the investigator's expectation. \n",
    "\n"
   ]
  },
  {
   "cell_type": "markdown",
   "metadata": {},
   "source": [
    "(6) Optional: What do you think is responsible for the effects observed? Can you think of an alternative or similar task that would result in a similar effect? Some research about the problem will be helpful for thinking about these two questions!"
   ]
  },
  {
   "cell_type": "markdown",
   "metadata": {},
   "source": [
    "This is due to the fact that there is a mismatch between the word (and its meaning) and the exact colour. When the mismatch happens, additional time is necessary for the brain (prefrontal cortex) to process the information and determine the meaning. \n",
    "\n",
    "Similiar results are likely observed if the subjects were shown words of the correct colour but the wrong text. However in this scenario, the difference are possibly lesser in magnitude as the visual color representation are likely to be more ingrained in the brain as compared to word shape associations. \n",
    "\n",
    "\n",
    "Reference (Statistics):\n",
    "1. Wilson JH, Joye SW. Research Methods and Statistics - An Integrated Approach. Thousand Oaks, California: SAGE Publications, Inc; 2017.\n",
    "\n",
    "Reference (Code): \n",
    "1. pandas. pandas 0.22.0 documentation. https://pandas.pydata.org/pandas-docs/stable/. Accessed January 17, 2018.\n",
    "\n",
    "1. Matplotlib Development Team. Matplotlib Documentation. Matplotlib Documentation. https://matplotlib.org/contents.html. Accessed January 17, 2018.\n",
    "\n",
    "1. Scipy. Numpy and Scipy Documentation. 2017. https://docs.scipy.org/doc/. Accessed January 17, 2018.\n",
    "\n",
    "\n",
    "Report By:\n",
    "\n",
    "Sofyan Sahrom\n",
    "\n",
    "Student, Data Analyst Nanodegree (January 2018 - Cohort)\n"
   ]
  }
 ],
 "metadata": {
  "kernelspec": {
   "display_name": "Python 3",
   "language": "python",
   "name": "python3"
  },
  "language_info": {
   "codemirror_mode": {
    "name": "ipython",
    "version": 3
   },
   "file_extension": ".py",
   "mimetype": "text/x-python",
   "name": "python",
   "nbconvert_exporter": "python",
   "pygments_lexer": "ipython3",
   "version": "3.6.2"
  }
 },
 "nbformat": 4,
 "nbformat_minor": 2
}
